
{
 "cells": [
  {
   "cell_type": "markdown",
   "metadata": {},
   "source": [
    "# 📊 Analisis Sentimen Review Produk Shopee\n",
    "**Capstone Project oleh Achmad**\n",
    "\n",
    "Proyek ini bertujuan untuk menganalisis sentimen pelanggan dari review produk Shopee menggunakan Python dan visualisasi sederhana."
   ]
  },
  {
   "cell_type": "code",
   "execution_count": null,
   "metadata": {},
   "outputs": [],
   "source": [
    "# 📥 1. Import Library\n",
    "import pandas as pd\n",
    "import matplotlib.pyplot as plt\n",
    "from wordcloud import WordCloud\n",
    "import seaborn as sns\n",
    "\n",
    "%matplotlib inline"
   ]
  },
  {
   "cell_type": "code",
   "execution_count": null,
   "metadata": {},
   "outputs": [],
   "source": [
    "# 📂 2. Load Dataset\n",
    "df = pd.read_csv('shopee_reviews_capstone.csv')\n",
    "df.head()"
   ]
  },
  {
   "cell_type": "code",
   "execution_count": null,
   "metadata": {},
   "outputs": [],
   "source": [
    "# 📊 3. Tambahkan Kolom Sentimen\n",
    "def rating_to_sentiment(rating):\n",
    "    if rating >= 4:\n",
    "        return 'Positif'\n",
    "    elif rating == 3:\n",
    "        return 'Netral'\n",
    "    else:\n",
    "        return 'Negatif'\n",
    "\n",
    "df['sentiment'] = df['rating'].apply(rating_to_sentiment)\n",
    "df[['rating', 'sentiment']]"
   ]
  },
  {
   "cell_type": "code",
   "execution_count": null,
   "metadata": {},
   "outputs": [],
   "source": [
    "# 📈 4. Visualisasi Sentimen\n",
    "sns.countplot(data=df, x='sentiment', palette='Set2')\n",
    "plt.title('Distribusi Sentimen Review Produk')\n",
    "plt.show()"
   ]
  },
  {
   "cell_type": "code",
   "execution_count": null,
   "metadata": {},
   "outputs": [],
   "source": [
    "# ☁️ 5. WordCloud dari Semua Review\n",
    "text = ' '.join(df['review'].astype(str).tolist())\n",
    "wordcloud = WordCloud(width=800, height=400, background_color='white').generate(text)\n",
    "plt.figure(figsize=(10,5))\n",
    "plt.imshow(wordcloud, interpolation='bilinear')\n",
    "plt.axis('off')\n",
    "plt.title('WordCloud dari Ulasan Produk')\n",
    "plt.show()"
   ]
  }
 ],
 "metadata": {
  "kernelspec": {
   "display_name": "Python 3",
   "language": "python",
   "name": "python3"
  },
  "language_info": {
   "name": "python",
   "version": ""
  }
 },
 "nbformat": 4,
 "nbformat_minor": 2
}
